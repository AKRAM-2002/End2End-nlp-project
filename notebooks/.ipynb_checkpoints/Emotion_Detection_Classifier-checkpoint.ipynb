{
 "cells": [
  {
   "cell_type": "markdown",
   "id": "100c7784-3c7c-4fc1-87ac-0dbfc51637e9",
   "metadata": {},
   "source": [
    "### END 2 END NLP Project\n",
    "+ Emotion detection in text\n",
    "+ Text classifier"
   ]
  },
  {
   "cell_type": "code",
   "execution_count": 2,
   "id": "8e18c456-3bcc-4ee4-8ace-09fa0995a106",
   "metadata": {},
   "outputs": [],
   "source": [
    "#Load EDA packages\n",
    "import pandas as pd\n",
    "import numpy as np"
   ]
  },
  {
   "cell_type": "code",
   "execution_count": 32,
   "id": "505ff71e-de04-4906-b111-361e327bc0fe",
   "metadata": {},
   "outputs": [],
   "source": [
    "#Load Data Visualization Packages\n",
    "import seaborn as sns\n",
    "import matplotlib.pyplot as plt"
   ]
  },
  {
   "cell_type": "code",
   "execution_count": 4,
   "id": "49fbf05b-8121-4a61-9eed-91903f1248a8",
   "metadata": {},
   "outputs": [],
   "source": [
    "#Load text leaning packages\n",
    "import neattext.functions as nfx"
   ]
  },
  {
   "cell_type": "code",
   "execution_count": 5,
   "id": "7b979295-dba7-4451-9e3d-bd61bdf65e36",
   "metadata": {},
   "outputs": [],
   "source": [
    "#Load ML packages\n",
    "# Estimators\n",
    "from sklearn.linear_model import LogisticRegression\n",
    "from sklearn.naive_bayes import MultinomialNB"
   ]
  },
  {
   "cell_type": "code",
   "execution_count": 6,
   "id": "964d46ef-1464-4ba5-9cfc-2f22fbb44580",
   "metadata": {},
   "outputs": [],
   "source": [
    "#Transformers\n",
    "from sklearn.feature_extraction.text import CountVectorizer\n",
    "from sklearn.model_selection import train_test_split\n",
    "from sklearn.metrics import accuracy_score,classification_report,confusion_matrix"
   ]
  },
  {
   "cell_type": "code",
   "execution_count": 44,
   "id": "c93dd8c3-f96c-4277-8132-e6bb361a7f04",
   "metadata": {},
   "outputs": [],
   "source": [
    "# Load dataset\n",
    "df = pd.read_csv('C:/Users/hp/Documents/NLP Projects/End2End-nlp-project/data/emotion_dataset_2.csv')"
   ]
  },
  {
   "cell_type": "code",
   "execution_count": 45,
   "id": "a5cadeff-601d-43f4-b749-84fa4b25c697",
   "metadata": {},
   "outputs": [
    {
     "data": {
      "text/html": [
       "<div>\n",
       "<style scoped>\n",
       "    .dataframe tbody tr th:only-of-type {\n",
       "        vertical-align: middle;\n",
       "    }\n",
       "\n",
       "    .dataframe tbody tr th {\n",
       "        vertical-align: top;\n",
       "    }\n",
       "\n",
       "    .dataframe thead th {\n",
       "        text-align: right;\n",
       "    }\n",
       "</style>\n",
       "<table border=\"1\" class=\"dataframe\">\n",
       "  <thead>\n",
       "    <tr style=\"text-align: right;\">\n",
       "      <th></th>\n",
       "      <th>Unnamed: 0</th>\n",
       "      <th>Emotion</th>\n",
       "      <th>Text</th>\n",
       "      <th>Clean_Text</th>\n",
       "    </tr>\n",
       "  </thead>\n",
       "  <tbody>\n",
       "    <tr>\n",
       "      <th>0</th>\n",
       "      <td>0</td>\n",
       "      <td>neutral</td>\n",
       "      <td>Why ?</td>\n",
       "      <td>NaN</td>\n",
       "    </tr>\n",
       "    <tr>\n",
       "      <th>1</th>\n",
       "      <td>1</td>\n",
       "      <td>joy</td>\n",
       "      <td>Sage Act upgrade on my to do list for tommorow.</td>\n",
       "      <td>Sage Act upgrade list tommorow</td>\n",
       "    </tr>\n",
       "    <tr>\n",
       "      <th>2</th>\n",
       "      <td>2</td>\n",
       "      <td>sadness</td>\n",
       "      <td>ON THE WAY TO MY HOMEGIRL BABY FUNERAL!!! MAN ...</td>\n",
       "      <td>WAY HOMEGIRL BABY FUNERAL MAN HATE FUNERALS SH...</td>\n",
       "    </tr>\n",
       "    <tr>\n",
       "      <th>3</th>\n",
       "      <td>3</td>\n",
       "      <td>joy</td>\n",
       "      <td>Such an eye ! The true hazel eye-and so brill...</td>\n",
       "      <td>eye  true hazel eyeand brilliant  Regular feat...</td>\n",
       "    </tr>\n",
       "    <tr>\n",
       "      <th>4</th>\n",
       "      <td>4</td>\n",
       "      <td>joy</td>\n",
       "      <td>@Iluvmiasantos ugh babe.. hugggzzz for u .!  b...</td>\n",
       "      <td>ugh babe hugggzzz u  babe naamazed nga ako e...</td>\n",
       "    </tr>\n",
       "    <tr>\n",
       "      <th>...</th>\n",
       "      <td>...</td>\n",
       "      <td>...</td>\n",
       "      <td>...</td>\n",
       "      <td>...</td>\n",
       "    </tr>\n",
       "    <tr>\n",
       "      <th>34787</th>\n",
       "      <td>34787</td>\n",
       "      <td>surprise</td>\n",
       "      <td>@MichelGW have you gift! Hope you like it! It'...</td>\n",
       "      <td>gift Hope like it hand wear  Itll warm Lol</td>\n",
       "    </tr>\n",
       "    <tr>\n",
       "      <th>34788</th>\n",
       "      <td>34788</td>\n",
       "      <td>joy</td>\n",
       "      <td>The world didnt give it to me..so the world MO...</td>\n",
       "      <td>world didnt meso world DEFINITELY cnt away</td>\n",
       "    </tr>\n",
       "    <tr>\n",
       "      <th>34789</th>\n",
       "      <td>34789</td>\n",
       "      <td>anger</td>\n",
       "      <td>A man robbed me today .</td>\n",
       "      <td>man robbed today</td>\n",
       "    </tr>\n",
       "    <tr>\n",
       "      <th>34790</th>\n",
       "      <td>34790</td>\n",
       "      <td>fear</td>\n",
       "      <td>Youu call it JEALOUSY, I call it of #Losing YO...</td>\n",
       "      <td>Youu JEALOUSY #Losing YOU</td>\n",
       "    </tr>\n",
       "    <tr>\n",
       "      <th>34791</th>\n",
       "      <td>34791</td>\n",
       "      <td>sadness</td>\n",
       "      <td>I think about you baby, and I dream about you ...</td>\n",
       "      <td>think baby dream time</td>\n",
       "    </tr>\n",
       "  </tbody>\n",
       "</table>\n",
       "<p>34792 rows × 4 columns</p>\n",
       "</div>"
      ],
      "text/plain": [
       "       Unnamed: 0   Emotion  \\\n",
       "0               0   neutral   \n",
       "1               1       joy   \n",
       "2               2   sadness   \n",
       "3               3       joy   \n",
       "4               4       joy   \n",
       "...           ...       ...   \n",
       "34787       34787  surprise   \n",
       "34788       34788       joy   \n",
       "34789       34789     anger   \n",
       "34790       34790      fear   \n",
       "34791       34791   sadness   \n",
       "\n",
       "                                                    Text  \\\n",
       "0                                                 Why ?    \n",
       "1        Sage Act upgrade on my to do list for tommorow.   \n",
       "2      ON THE WAY TO MY HOMEGIRL BABY FUNERAL!!! MAN ...   \n",
       "3       Such an eye ! The true hazel eye-and so brill...   \n",
       "4      @Iluvmiasantos ugh babe.. hugggzzz for u .!  b...   \n",
       "...                                                  ...   \n",
       "34787  @MichelGW have you gift! Hope you like it! It'...   \n",
       "34788  The world didnt give it to me..so the world MO...   \n",
       "34789                           A man robbed me today .    \n",
       "34790  Youu call it JEALOUSY, I call it of #Losing YO...   \n",
       "34791  I think about you baby, and I dream about you ...   \n",
       "\n",
       "                                              Clean_Text  \n",
       "0                                                    NaN  \n",
       "1                         Sage Act upgrade list tommorow  \n",
       "2      WAY HOMEGIRL BABY FUNERAL MAN HATE FUNERALS SH...  \n",
       "3      eye  true hazel eyeand brilliant  Regular feat...  \n",
       "4        ugh babe hugggzzz u  babe naamazed nga ako e...  \n",
       "...                                                  ...  \n",
       "34787         gift Hope like it hand wear  Itll warm Lol  \n",
       "34788         world didnt meso world DEFINITELY cnt away  \n",
       "34789                                  man robbed today   \n",
       "34790                          Youu JEALOUSY #Losing YOU  \n",
       "34791                              think baby dream time  \n",
       "\n",
       "[34792 rows x 4 columns]"
      ]
     },
     "execution_count": 45,
     "metadata": {},
     "output_type": "execute_result"
    }
   ],
   "source": [
    "df"
   ]
  },
  {
   "cell_type": "markdown",
   "id": "fa0d7c0c-0023-41d7-ac67-8531c6b870ce",
   "metadata": {},
   "source": [
    "## EDA"
   ]
  },
  {
   "cell_type": "markdown",
   "id": "bed742c6-2792-4f1e-8426-e6d1b668efed",
   "metadata": {},
   "source": [
    "#### 1.Data Understanding"
   ]
  },
  {
   "cell_type": "code",
   "execution_count": 46,
   "id": "94f58840-379f-45bb-a701-4d0b338b21e6",
   "metadata": {},
   "outputs": [
    {
     "data": {
      "text/plain": [
       "(34792, 4)"
      ]
     },
     "execution_count": 46,
     "metadata": {},
     "output_type": "execute_result"
    }
   ],
   "source": [
    "df.shape"
   ]
  },
  {
   "cell_type": "code",
   "execution_count": 47,
   "id": "0d4a8c34-5ee3-4e2a-be7c-9af8c894db3d",
   "metadata": {},
   "outputs": [
    {
     "name": "stdout",
     "output_type": "stream",
     "text": [
      "<class 'pandas.core.frame.DataFrame'>\n",
      "RangeIndex: 34792 entries, 0 to 34791\n",
      "Data columns (total 4 columns):\n",
      " #   Column      Non-Null Count  Dtype \n",
      "---  ------      --------------  ----- \n",
      " 0   Unnamed: 0  34792 non-null  int64 \n",
      " 1   Emotion     34792 non-null  object\n",
      " 2   Text        34792 non-null  object\n",
      " 3   Clean_Text  34326 non-null  object\n",
      "dtypes: int64(1), object(3)\n",
      "memory usage: 1.1+ MB\n"
     ]
    }
   ],
   "source": [
    "df.info()"
   ]
  },
  {
   "cell_type": "code",
   "execution_count": 48,
   "id": "47b5fd52-3c6a-4443-89e5-4d5845f8a072",
   "metadata": {},
   "outputs": [
    {
     "data": {
      "text/html": [
       "<div>\n",
       "<style scoped>\n",
       "    .dataframe tbody tr th:only-of-type {\n",
       "        vertical-align: middle;\n",
       "    }\n",
       "\n",
       "    .dataframe tbody tr th {\n",
       "        vertical-align: top;\n",
       "    }\n",
       "\n",
       "    .dataframe thead th {\n",
       "        text-align: right;\n",
       "    }\n",
       "</style>\n",
       "<table border=\"1\" class=\"dataframe\">\n",
       "  <thead>\n",
       "    <tr style=\"text-align: right;\">\n",
       "      <th></th>\n",
       "      <th>Unnamed: 0</th>\n",
       "    </tr>\n",
       "  </thead>\n",
       "  <tbody>\n",
       "    <tr>\n",
       "      <th>count</th>\n",
       "      <td>34792.000000</td>\n",
       "    </tr>\n",
       "    <tr>\n",
       "      <th>mean</th>\n",
       "      <td>17395.500000</td>\n",
       "    </tr>\n",
       "    <tr>\n",
       "      <th>std</th>\n",
       "      <td>10043.729619</td>\n",
       "    </tr>\n",
       "    <tr>\n",
       "      <th>min</th>\n",
       "      <td>0.000000</td>\n",
       "    </tr>\n",
       "    <tr>\n",
       "      <th>25%</th>\n",
       "      <td>8697.750000</td>\n",
       "    </tr>\n",
       "    <tr>\n",
       "      <th>50%</th>\n",
       "      <td>17395.500000</td>\n",
       "    </tr>\n",
       "    <tr>\n",
       "      <th>75%</th>\n",
       "      <td>26093.250000</td>\n",
       "    </tr>\n",
       "    <tr>\n",
       "      <th>max</th>\n",
       "      <td>34791.000000</td>\n",
       "    </tr>\n",
       "  </tbody>\n",
       "</table>\n",
       "</div>"
      ],
      "text/plain": [
       "         Unnamed: 0\n",
       "count  34792.000000\n",
       "mean   17395.500000\n",
       "std    10043.729619\n",
       "min        0.000000\n",
       "25%     8697.750000\n",
       "50%    17395.500000\n",
       "75%    26093.250000\n",
       "max    34791.000000"
      ]
     },
     "execution_count": 48,
     "metadata": {},
     "output_type": "execute_result"
    }
   ],
   "source": [
    "df.describe()"
   ]
  },
  {
   "cell_type": "code",
   "execution_count": 49,
   "id": "9c5727f6-2695-4cec-88a6-11485374edbb",
   "metadata": {},
   "outputs": [
    {
     "data": {
      "text/plain": [
       "Index(['Unnamed: 0', 'Emotion', 'Text', 'Clean_Text'], dtype='object')"
      ]
     },
     "execution_count": 49,
     "metadata": {},
     "output_type": "execute_result"
    }
   ],
   "source": [
    "df.columns"
   ]
  },
  {
   "cell_type": "code",
   "execution_count": 50,
   "id": "6f81a273-0985-436f-acf8-1c6af8b72dc6",
   "metadata": {},
   "outputs": [
    {
     "data": {
      "text/plain": [
       "array(['neutral', 'joy', 'sadness', 'fear', 'surprise', 'anger', 'shame',\n",
       "       'disgust'], dtype=object)"
      ]
     },
     "execution_count": 50,
     "metadata": {},
     "output_type": "execute_result"
    }
   ],
   "source": [
    "df['Emotion'].unique()"
   ]
  },
  {
   "cell_type": "markdown",
   "id": "cc9f6416-0cd3-45a0-90c8-2c49eade47e4",
   "metadata": {},
   "source": [
    "\"Emotion\" is categorical variable that contains emotions expressed through the text and the emotions included in the data are:\n",
    "['neutral', 'joy', 'sadness', 'fear', 'surprise', 'anger', 'shame','disgust']"
   ]
  },
  {
   "cell_type": "markdown",
   "id": "881285ea-308f-4004-a1e5-4c016961fbc5",
   "metadata": {},
   "source": [
    "We can use this function that gives you a whole summary to about the description of your data:"
   ]
  },
  {
   "cell_type": "code",
   "execution_count": 51,
   "id": "76993db3-0fc4-40a9-98f5-1748ef7249c1",
   "metadata": {},
   "outputs": [],
   "source": [
    "def describe_data(data_type,data,label):\n",
    "    print(data_type,\" DESCRIPTION\")\n",
    "    print(\"--------------------------\")\n",
    "    size=data.shape\n",
    "    null_values=data.isnull().sum().sum()\n",
    "    \n",
    "    label_count=data[label].value_counts()\n",
    "    print(data_type,\" shape:\",size,\"\\n\")\n",
    "    print(data_type,\" contains:\",null_values,\" null values\\n\")\n",
    "    print(\"Label counts:\")  \n",
    "    print(label_count)\n",
    "    print()\n",
    "    \n",
    "    print(\"*****\",data_type,\" label count plot ****\")\n",
    "    sns.countplot(\n",
    "        data=data,\n",
    "        x=label\n",
    "    )"
   ]
  },
  {
   "cell_type": "code",
   "execution_count": 52,
   "id": "bf05e30e-d220-4fc6-8979-0969ad93df8e",
   "metadata": {},
   "outputs": [
    {
     "name": "stdout",
     "output_type": "stream",
     "text": [
      "Emotion_dataset:Training Data  DESCRIPTION\n",
      "--------------------------\n",
      "Emotion_dataset:Training Data  shape: (34792, 4) \n",
      "\n",
      "Emotion_dataset:Training Data  contains: 466  null values\n",
      "\n",
      "Label counts:\n",
      "joy         11045\n",
      "sadness      6722\n",
      "fear         5410\n",
      "anger        4297\n",
      "surprise     4062\n",
      "neutral      2254\n",
      "disgust       856\n",
      "shame         146\n",
      "Name: Emotion, dtype: int64\n",
      "\n",
      "***** Emotion_dataset:Training Data  label count plot ****\n"
     ]
    },
    {
     "data": {
      "image/png": "[encoded data removed]",
      "text/plain": [
       "<Figure size 640x480 with 1 Axes>"
      ]
     },
     "metadata": {},
     "output_type": "display_data"
    }
   ],
   "source": [
    "describe_data(\"Emotion_dataset:Training Data\",df,\"Emotion\")"
   ]
  },
  {
   "cell_type": "code",
   "execution_count": 53,
   "id": "f9ef7d4b-d173-49e0-b52e-3de8de2db9ce",
   "metadata": {},
   "outputs": [
    {
     "data": {
      "text/plain": [
       "Clean_Text    466\n",
       "Unnamed: 0      0\n",
       "Emotion         0\n",
       "Text            0\n",
       "dtype: int64"
      ]
     },
     "execution_count": 53,
     "metadata": {},
     "output_type": "execute_result"
    }
   ],
   "source": [
    "df.isnull().sum(axis=0).sort_values(ascending=False)"
   ]
  },
  {
   "cell_type": "code",
   "execution_count": 54,
   "id": "47bdfcc6-3f01-402b-af72-4d8df01c4d6a",
   "metadata": {},
   "outputs": [
    {
     "data": {
      "text/plain": [
       "count                                                 34326\n",
       "unique                                                30645\n",
       "top       “  afraid tomorrow seen yesterday love today #...\n",
       "freq                                                    103\n",
       "Name: Clean_Text, dtype: object"
      ]
     },
     "execution_count": 54,
     "metadata": {},
     "output_type": "execute_result"
    }
   ],
   "source": [
    "df['Clean_Text'].describe()"
   ]
  },
  {
   "cell_type": "code",
   "execution_count": 55,
   "id": "11126586-af51-4c19-80ee-2d6a2948fe3f",
   "metadata": {},
   "outputs": [],
   "source": [
    "no_missing_data = df.dropna(axis=0)"
   ]
  },
  {
   "cell_type": "code",
   "execution_count": 56,
   "id": "ec058ec5-0d55-471d-a190-06063f36369e",
   "metadata": {},
   "outputs": [
    {
     "data": {
      "text/plain": [
       "Unnamed: 0    0\n",
       "Emotion       0\n",
       "Text          0\n",
       "Clean_Text    0\n",
       "dtype: int64"
      ]
     },
     "execution_count": 56,
     "metadata": {},
     "output_type": "execute_result"
    }
   ],
   "source": [
    "no_missing_data.isnull().sum()"
   ]
  },
  {
   "cell_type": "code",
   "execution_count": 57,
   "id": "73c6cc17-187f-4d98-8165-951040ab111d",
   "metadata": {},
   "outputs": [],
   "source": [
    "df = no_missing_data"
   ]
  },
  {
   "cell_type": "code",
   "execution_count": 58,
   "id": "d6e6dfd1-78a6-46fd-abd9-d2b7dee730b5",
   "metadata": {},
   "outputs": [
    {
     "data": {
      "text/plain": [
       "Unnamed: 0    0\n",
       "Emotion       0\n",
       "Text          0\n",
       "Clean_Text    0\n",
       "dtype: int64"
      ]
     },
     "execution_count": 58,
     "metadata": {},
     "output_type": "execute_result"
    }
   ],
   "source": [
    "df.isnull().sum()"
   ]
  },
  {
   "cell_type": "markdown",
   "id": "0102db1f-0824-4560-a658-49430661ff49",
   "metadata": {},
   "source": [
    "To handle our missing data we choose to delete the entire row that has the column \"Clean_Text\" value missing"
   ]
  },
  {
   "cell_type": "markdown",
   "id": "a10593d8-4a81-4f15-b198-73b8fc4b0c49",
   "metadata": {},
   "source": [
    "Conclusion: now our data is free of null values"
   ]
  },
  {
   "cell_type": "code",
   "execution_count": 59,
   "id": "60d65948-6b0c-49a1-9b6b-8839a8dbf879",
   "metadata": {},
   "outputs": [],
   "source": [
    "df = df.drop(['Unnamed: 0'],axis=1)"
   ]
  },
  {
   "cell_type": "code",
   "execution_count": 60,
   "id": "d7dffce7-7f3e-4626-964f-a1c691186c36",
   "metadata": {},
   "outputs": [
    {
     "data": {
      "image/png": "[encoded data removed]",
      "text/plain": [
       "<Figure size 1000x600 with 1 Axes>"
      ]
     },
     "metadata": {},
     "output_type": "display_data"
    }
   ],
   "source": [
    "df[\"Text Length\"]=df[\"Clean_Text\"].apply(len)\n",
    "\n",
    "fig=plt.figure(figsize=(10,6))\n",
    "\n",
    "sns.kdeplot(\n",
    "    x=df[\"Text Length\"],\n",
    "    hue=df[\"Emotion\"]\n",
    ")\n",
    "plt.show()"
   ]
  },
  {
   "cell_type": "markdown",
   "id": "9497d39a-c1b1-4fe8-8332-d1e6ad3cce7b",
   "metadata": {},
   "source": [
    "We mark the distribution of text lengths using kdeplot"
   ]
  },
  {
   "cell_type": "code",
   "execution_count": 61,
   "id": "e8e51f2a-a74f-4574-8b0d-10532312023f",
   "metadata": {},
   "outputs": [
    {
     "data": {
      "text/html": [
       "<div>\n",
       "<style scoped>\n",
       "    .dataframe tbody tr th:only-of-type {\n",
       "        vertical-align: middle;\n",
       "    }\n",
       "\n",
       "    .dataframe tbody tr th {\n",
       "        vertical-align: top;\n",
       "    }\n",
       "\n",
       "    .dataframe thead th {\n",
       "        text-align: right;\n",
       "    }\n",
       "</style>\n",
       "<table border=\"1\" class=\"dataframe\">\n",
       "  <thead>\n",
       "    <tr style=\"text-align: right;\">\n",
       "      <th></th>\n",
       "      <th>Text Length</th>\n",
       "    </tr>\n",
       "  </thead>\n",
       "  <tbody>\n",
       "    <tr>\n",
       "      <th>count</th>\n",
       "      <td>34326.000000</td>\n",
       "    </tr>\n",
       "    <tr>\n",
       "      <th>mean</th>\n",
       "      <td>51.762454</td>\n",
       "    </tr>\n",
       "    <tr>\n",
       "      <th>std</th>\n",
       "      <td>28.711107</td>\n",
       "    </tr>\n",
       "    <tr>\n",
       "      <th>min</th>\n",
       "      <td>1.000000</td>\n",
       "    </tr>\n",
       "    <tr>\n",
       "      <th>25%</th>\n",
       "      <td>31.000000</td>\n",
       "    </tr>\n",
       "    <tr>\n",
       "      <th>50%</th>\n",
       "      <td>48.000000</td>\n",
       "    </tr>\n",
       "    <tr>\n",
       "      <th>75%</th>\n",
       "      <td>68.000000</td>\n",
       "    </tr>\n",
       "    <tr>\n",
       "      <th>max</th>\n",
       "      <td>560.000000</td>\n",
       "    </tr>\n",
       "  </tbody>\n",
       "</table>\n",
       "</div>"
      ],
      "text/plain": [
       "        Text Length\n",
       "count  34326.000000\n",
       "mean      51.762454\n",
       "std       28.711107\n",
       "min        1.000000\n",
       "25%       31.000000\n",
       "50%       48.000000\n",
       "75%       68.000000\n",
       "max      560.000000"
      ]
     },
     "execution_count": 61,
     "metadata": {},
     "output_type": "execute_result"
    }
   ],
   "source": [
    "df[[\"Text Length\"]].describe()"
   ]
  },
  {
   "cell_type": "markdown",
   "id": "75524077-f230-4ca0-9a47-0280853cff3e",
   "metadata": {},
   "source": [
    "We have mininum text length of 1 and maximum length of 560 however most of them are concentrated in between 1-100"
   ]
  },
  {
   "cell_type": "markdown",
   "id": "857a1c4e-8227-4172-a37a-abd456ff995b",
   "metadata": {},
   "source": [
    "#### 2.Data Preparation"
   ]
  },
  {
   "cell_type": "markdown",
   "id": "823761ec-f3d5-4fab-94a3-a62b51df7adc",
   "metadata": {},
   "source": [
    "First, as you may notice the variable target \"Emotion\" contains object datatype, so we must convert our data into machine understandable form, for that we use label mapping:"
   ]
  },
  {
   "cell_type": "code",
   "execution_count": 62,
   "id": "5ee302eb-4538-4962-96ef-26f9190cd289",
   "metadata": {},
   "outputs": [
    {
     "data": {
      "text/plain": [
       "array(['joy', 'sadness', 'fear', 'surprise', 'anger', 'shame', 'neutral',\n",
       "       'disgust'], dtype=object)"
      ]
     },
     "execution_count": 62,
     "metadata": {},
     "output_type": "execute_result"
    }
   ],
   "source": [
    "df['Emotion'].unique()"
   ]
  },
  {
   "cell_type": "code",
   "execution_count": 63,
   "id": "f27bd05a-e2e5-46ef-8e4e-3f96cf0baa86",
   "metadata": {},
   "outputs": [],
   "source": [
    "# create a label mapping dictionary\n",
    "label_map = { \"joy\":0,\n",
    "              \"sadness\":1,\n",
    "              \"fear\":2,\n",
    "              \"surprise\":3,\n",
    "              \"anger\":4,\n",
    "              \"shame\":5,\n",
    "              \"neutral\":6,\n",
    "              \"disgust\":7}"
   ]
  },
  {
   "cell_type": "code",
   "execution_count": 64,
   "id": "e452a31c-bae8-44d6-9745-c146538a8af1",
   "metadata": {},
   "outputs": [],
   "source": [
    "def label_encode(data,label):\n",
    "    label=data[label].map(label_map)\n",
    "    return label"
   ]
  },
  {
   "cell_type": "code",
   "execution_count": 65,
   "id": "ebbdc859-5367-4479-993c-77ce45d1f745",
   "metadata": {},
   "outputs": [],
   "source": [
    "# replace the values using the label mapping dictionary\n",
    "df[\"label\"] = label_encode(df, \"Emotion\")"
   ]
  },
  {
   "cell_type": "code",
   "execution_count": 66,
   "id": "2597f216-f8bb-4a16-95be-cee1d0f217cd",
   "metadata": {},
   "outputs": [
    {
     "data": {
      "text/html": [
       "<div>\n",
       "<style scoped>\n",
       "    .dataframe tbody tr th:only-of-type {\n",
       "        vertical-align: middle;\n",
       "    }\n",
       "\n",
       "    .dataframe tbody tr th {\n",
       "        vertical-align: top;\n",
       "    }\n",
       "\n",
       "    .dataframe thead th {\n",
       "        text-align: right;\n",
       "    }\n",
       "</style>\n",
       "<table border=\"1\" class=\"dataframe\">\n",
       "  <thead>\n",
       "    <tr style=\"text-align: right;\">\n",
       "      <th></th>\n",
       "      <th>Emotion</th>\n",
       "      <th>Text</th>\n",
       "      <th>Clean_Text</th>\n",
       "      <th>Text Length</th>\n",
       "      <th>label</th>\n",
       "    </tr>\n",
       "  </thead>\n",
       "  <tbody>\n",
       "    <tr>\n",
       "      <th>1</th>\n",
       "      <td>joy</td>\n",
       "      <td>Sage Act upgrade on my to do list for tommorow.</td>\n",
       "      <td>Sage Act upgrade list tommorow</td>\n",
       "      <td>30</td>\n",
       "      <td>0</td>\n",
       "    </tr>\n",
       "    <tr>\n",
       "      <th>2</th>\n",
       "      <td>sadness</td>\n",
       "      <td>ON THE WAY TO MY HOMEGIRL BABY FUNERAL!!! MAN ...</td>\n",
       "      <td>WAY HOMEGIRL BABY FUNERAL MAN HATE FUNERALS SH...</td>\n",
       "      <td>57</td>\n",
       "      <td>1</td>\n",
       "    </tr>\n",
       "    <tr>\n",
       "      <th>3</th>\n",
       "      <td>joy</td>\n",
       "      <td>Such an eye ! The true hazel eye-and so brill...</td>\n",
       "      <td>eye  true hazel eyeand brilliant  Regular feat...</td>\n",
       "      <td>268</td>\n",
       "      <td>0</td>\n",
       "    </tr>\n",
       "    <tr>\n",
       "      <th>4</th>\n",
       "      <td>joy</td>\n",
       "      <td>@Iluvmiasantos ugh babe.. hugggzzz for u .!  b...</td>\n",
       "      <td>ugh babe hugggzzz u  babe naamazed nga ako e...</td>\n",
       "      <td>93</td>\n",
       "      <td>0</td>\n",
       "    </tr>\n",
       "    <tr>\n",
       "      <th>5</th>\n",
       "      <td>fear</td>\n",
       "      <td>I'm expecting an extremely important phonecall...</td>\n",
       "      <td>Im expecting extremely important phonecall min...</td>\n",
       "      <td>70</td>\n",
       "      <td>2</td>\n",
       "    </tr>\n",
       "  </tbody>\n",
       "</table>\n",
       "</div>"
      ],
      "text/plain": [
       "   Emotion                                               Text  \\\n",
       "1      joy    Sage Act upgrade on my to do list for tommorow.   \n",
       "2  sadness  ON THE WAY TO MY HOMEGIRL BABY FUNERAL!!! MAN ...   \n",
       "3      joy   Such an eye ! The true hazel eye-and so brill...   \n",
       "4      joy  @Iluvmiasantos ugh babe.. hugggzzz for u .!  b...   \n",
       "5     fear  I'm expecting an extremely important phonecall...   \n",
       "\n",
       "                                          Clean_Text  Text Length  label  \n",
       "1                     Sage Act upgrade list tommorow           30      0  \n",
       "2  WAY HOMEGIRL BABY FUNERAL MAN HATE FUNERALS SH...           57      1  \n",
       "3  eye  true hazel eyeand brilliant  Regular feat...          268      0  \n",
       "4    ugh babe hugggzzz u  babe naamazed nga ako e...           93      0  \n",
       "5  Im expecting extremely important phonecall min...           70      2  "
      ]
     },
     "execution_count": 66,
     "metadata": {},
     "output_type": "execute_result"
    }
   ],
   "source": [
    "df.head()"
   ]
  },
  {
   "cell_type": "code",
   "execution_count": 67,
   "id": "c3377b42-ed5c-40ab-81ea-b6937aad1983",
   "metadata": {},
   "outputs": [],
   "source": [
    "df = df.drop([\"Text Length\"],axis=1)"
   ]
  },
  {
   "cell_type": "code",
   "execution_count": 68,
   "id": "050c3de1-c999-4d66-8f13-317e34f82603",
   "metadata": {},
   "outputs": [
    {
     "data": {
      "text/html": [
       "<div>\n",
       "<style scoped>\n",
       "    .dataframe tbody tr th:only-of-type {\n",
       "        vertical-align: middle;\n",
       "    }\n",
       "\n",
       "    .dataframe tbody tr th {\n",
       "        vertical-align: top;\n",
       "    }\n",
       "\n",
       "    .dataframe thead th {\n",
       "        text-align: right;\n",
       "    }\n",
       "</style>\n",
       "<table border=\"1\" class=\"dataframe\">\n",
       "  <thead>\n",
       "    <tr style=\"text-align: right;\">\n",
       "      <th></th>\n",
       "      <th>Emotion</th>\n",
       "      <th>Text</th>\n",
       "      <th>Clean_Text</th>\n",
       "      <th>label</th>\n",
       "    </tr>\n",
       "  </thead>\n",
       "  <tbody>\n",
       "    <tr>\n",
       "      <th>1</th>\n",
       "      <td>joy</td>\n",
       "      <td>Sage Act upgrade on my to do list for tommorow.</td>\n",
       "      <td>Sage Act upgrade list tommorow</td>\n",
       "      <td>0</td>\n",
       "    </tr>\n",
       "    <tr>\n",
       "      <th>2</th>\n",
       "      <td>sadness</td>\n",
       "      <td>ON THE WAY TO MY HOMEGIRL BABY FUNERAL!!! MAN ...</td>\n",
       "      <td>WAY HOMEGIRL BABY FUNERAL MAN HATE FUNERALS SH...</td>\n",
       "      <td>1</td>\n",
       "    </tr>\n",
       "    <tr>\n",
       "      <th>3</th>\n",
       "      <td>joy</td>\n",
       "      <td>Such an eye ! The true hazel eye-and so brill...</td>\n",
       "      <td>eye  true hazel eyeand brilliant  Regular feat...</td>\n",
       "      <td>0</td>\n",
       "    </tr>\n",
       "    <tr>\n",
       "      <th>4</th>\n",
       "      <td>joy</td>\n",
       "      <td>@Iluvmiasantos ugh babe.. hugggzzz for u .!  b...</td>\n",
       "      <td>ugh babe hugggzzz u  babe naamazed nga ako e...</td>\n",
       "      <td>0</td>\n",
       "    </tr>\n",
       "    <tr>\n",
       "      <th>5</th>\n",
       "      <td>fear</td>\n",
       "      <td>I'm expecting an extremely important phonecall...</td>\n",
       "      <td>Im expecting extremely important phonecall min...</td>\n",
       "      <td>2</td>\n",
       "    </tr>\n",
       "    <tr>\n",
       "      <th>...</th>\n",
       "      <td>...</td>\n",
       "      <td>...</td>\n",
       "      <td>...</td>\n",
       "      <td>...</td>\n",
       "    </tr>\n",
       "    <tr>\n",
       "      <th>34787</th>\n",
       "      <td>surprise</td>\n",
       "      <td>@MichelGW have you gift! Hope you like it! It'...</td>\n",
       "      <td>gift Hope like it hand wear  Itll warm Lol</td>\n",
       "      <td>3</td>\n",
       "    </tr>\n",
       "    <tr>\n",
       "      <th>34788</th>\n",
       "      <td>joy</td>\n",
       "      <td>The world didnt give it to me..so the world MO...</td>\n",
       "      <td>world didnt meso world DEFINITELY cnt away</td>\n",
       "      <td>0</td>\n",
       "    </tr>\n",
       "    <tr>\n",
       "      <th>34789</th>\n",
       "      <td>anger</td>\n",
       "      <td>A man robbed me today .</td>\n",
       "      <td>man robbed today</td>\n",
       "      <td>4</td>\n",
       "    </tr>\n",
       "    <tr>\n",
       "      <th>34790</th>\n",
       "      <td>fear</td>\n",
       "      <td>Youu call it JEALOUSY, I call it of #Losing YO...</td>\n",
       "      <td>Youu JEALOUSY #Losing YOU</td>\n",
       "      <td>2</td>\n",
       "    </tr>\n",
       "    <tr>\n",
       "      <th>34791</th>\n",
       "      <td>sadness</td>\n",
       "      <td>I think about you baby, and I dream about you ...</td>\n",
       "      <td>think baby dream time</td>\n",
       "      <td>1</td>\n",
       "    </tr>\n",
       "  </tbody>\n",
       "</table>\n",
       "<p>34326 rows × 4 columns</p>\n",
       "</div>"
      ],
      "text/plain": [
       "        Emotion                                               Text  \\\n",
       "1           joy    Sage Act upgrade on my to do list for tommorow.   \n",
       "2       sadness  ON THE WAY TO MY HOMEGIRL BABY FUNERAL!!! MAN ...   \n",
       "3           joy   Such an eye ! The true hazel eye-and so brill...   \n",
       "4           joy  @Iluvmiasantos ugh babe.. hugggzzz for u .!  b...   \n",
       "5          fear  I'm expecting an extremely important phonecall...   \n",
       "...         ...                                                ...   \n",
       "34787  surprise  @MichelGW have you gift! Hope you like it! It'...   \n",
       "34788       joy  The world didnt give it to me..so the world MO...   \n",
       "34789     anger                           A man robbed me today .    \n",
       "34790      fear  Youu call it JEALOUSY, I call it of #Losing YO...   \n",
       "34791   sadness  I think about you baby, and I dream about you ...   \n",
       "\n",
       "                                              Clean_Text  label  \n",
       "1                         Sage Act upgrade list tommorow      0  \n",
       "2      WAY HOMEGIRL BABY FUNERAL MAN HATE FUNERALS SH...      1  \n",
       "3      eye  true hazel eyeand brilliant  Regular feat...      0  \n",
       "4        ugh babe hugggzzz u  babe naamazed nga ako e...      0  \n",
       "5      Im expecting extremely important phonecall min...      2  \n",
       "...                                                  ...    ...  \n",
       "34787         gift Hope like it hand wear  Itll warm Lol      3  \n",
       "34788         world didnt meso world DEFINITELY cnt away      0  \n",
       "34789                                  man robbed today       4  \n",
       "34790                          Youu JEALOUSY #Losing YOU      2  \n",
       "34791                              think baby dream time      1  \n",
       "\n",
       "[34326 rows x 4 columns]"
      ]
     },
     "execution_count": 68,
     "metadata": {},
     "output_type": "execute_result"
    }
   ],
   "source": [
    "df"
   ]
  },
  {
   "cell_type": "markdown",
   "id": "7ce6d437-d1b8-4c55-9534-670673ce2731",
   "metadata": {},
   "source": [
    "#### 3.Text Preparation"
   ]
  },
  {
   "cell_type": "code",
   "execution_count": null,
   "id": "3086c328-c000-4ab8-90ee-c5cef57d8a56",
   "metadata": {},
   "outputs": [],
   "source": [
    "#Importing libraries for the text preparation\n"
   ]
  },
  {
   "cell_type": "code",
   "execution_count": null,
   "id": "9b4d706e-f66c-4eff-9378-4e6fc2abbb61",
   "metadata": {},
   "outputs": [],
   "source": []
  },
  {
   "cell_type": "code",
   "execution_count": null,
   "id": "bee02fa6-e33d-46c5-99a7-2f2da302eb23",
   "metadata": {},
   "outputs": [],
   "source": []
  }
 ],
 "metadata": {
  "kernelspec": {
   "display_name": "Python 3 (ipykernel)",
   "language": "python",
   "name": "python3"
  },
  "language_info": {
   "codemirror_mode": {
    "name": "ipython",
    "version": 3
   },
   "file_extension": ".py",
   "mimetype": "text/x-python",
   "name": "python",
   "nbconvert_exporter": "python",
   "pygments_lexer": "ipython3",
   "version": "3.9.13"
  }
 },
 "nbformat": 4,
 "nbformat_minor": 5
}
